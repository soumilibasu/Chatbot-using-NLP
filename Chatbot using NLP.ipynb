{
 "cells": [
  {
   "cell_type": "code",
   "execution_count": 16,
   "id": "1b63cb68",
   "metadata": {},
   "outputs": [
    {
     "data": {
      "text/plain": [
       "True"
      ]
     },
     "execution_count": 16,
     "metadata": {},
     "output_type": "execute_result"
    }
   ],
   "source": [
    "import io\n",
    "import random\n",
    "import string # to process standard python strings\n",
    "import warnings\n",
    "import numpy as np\n",
    "from sklearn.feature_extraction.text import TfidfVectorizer\n",
    "from sklearn.metrics.pairwise import cosine_similarity\n",
    "import warnings\n",
    "warnings.filterwarnings('ignore')\n",
    "\n",
    "import nltk\n",
    "from nltk.stem import WordNetLemmatizer\n",
    "nltk.download('popular', quiet=True) # for downloading packages"
   ]
  },
  {
   "cell_type": "markdown",
   "id": "bf877dc5",
   "metadata": {},
   "source": [
    "# Data Collection"
   ]
  },
  {
   "cell_type": "code",
   "execution_count": 2,
   "id": "8e5c3012",
   "metadata": {},
   "outputs": [],
   "source": [
    "with open('Chatbot.txt','r', encoding='utf8', errors ='ignore') as fin:\n",
    "    raw_doc = fin.read().lower()"
   ]
  },
  {
   "cell_type": "code",
   "execution_count": 3,
   "id": "1ed8cf2a",
   "metadata": {},
   "outputs": [
    {
     "data": {
      "text/plain": [
       "'a chatbot (also known as a talkbot, chatterbot, bot, im bot, interactive agent, or artificial conversational entity) is a computer program or an artificial intelligence which conducts a conversation via auditory or textual methods. such programs are often designed to convincingly simulate how a human would behave as a conversational partner, thereby passing the turing test. chatbots are typically used in dialog systems for various practical purposes including customer service or information acqu'"
      ]
     },
     "execution_count": 3,
     "metadata": {},
     "output_type": "execute_result"
    }
   ],
   "source": [
    "raw_doc[:500]"
   ]
  },
  {
   "cell_type": "markdown",
   "id": "2cc35131",
   "metadata": {},
   "source": [
    "# Text Preprocessing"
   ]
  },
  {
   "cell_type": "code",
   "execution_count": 17,
   "id": "7d977197",
   "metadata": {},
   "outputs": [
    {
     "name": "stderr",
     "output_type": "stream",
     "text": [
      "[nltk_data] Downloading package punkt to\n",
      "[nltk_data]     C:\\Users\\sudip\\AppData\\Roaming\\nltk_data...\n",
      "[nltk_data]   Package punkt is already up-to-date!\n",
      "[nltk_data] Downloading package wordnet to\n",
      "[nltk_data]     C:\\Users\\sudip\\AppData\\Roaming\\nltk_data...\n",
      "[nltk_data]   Package wordnet is already up-to-date!\n"
     ]
    }
   ],
   "source": [
    "nltk.download('punkt') #using the punkt tokenizer\n",
    "nltk.download('wordnet') #using wordnet dictionary (lemmetizer)\n",
    "sent_tokens = nltk.sent_tokenize(raw_doc)\n",
    "word_tokens = nltk.word_tokenize(raw_doc)"
   ]
  },
  {
   "cell_type": "code",
   "execution_count": 18,
   "id": "08ac4de4",
   "metadata": {},
   "outputs": [
    {
     "data": {
      "text/plain": [
       "['a chatbot (also known as a talkbot, chatterbot, bot, im bot, interactive agent, or artificial conversational entity) is a computer program or an artificial intelligence which conducts a conversation via auditory or textual methods.',\n",
       " 'such programs are often designed to convincingly simulate how a human would behave as a conversational partner, thereby passing the turing test.',\n",
       " 'chatbots are typically used in dialog systems for various practical purposes including customer service or information acquisition.']"
      ]
     },
     "execution_count": 18,
     "metadata": {},
     "output_type": "execute_result"
    }
   ],
   "source": [
    "sent_tokens[:3]"
   ]
  },
  {
   "cell_type": "code",
   "execution_count": 19,
   "id": "c536aa13",
   "metadata": {},
   "outputs": [
    {
     "data": {
      "text/plain": [
       "['a', 'chatbot', '(', 'also', 'known']"
      ]
     },
     "execution_count": 19,
     "metadata": {},
     "output_type": "execute_result"
    }
   ],
   "source": [
    "word_tokens[:5]"
   ]
  },
  {
   "cell_type": "code",
   "execution_count": 20,
   "id": "1bd099a0",
   "metadata": {},
   "outputs": [],
   "source": [
    "lemmer = WordNetLemmatizer()\n",
    "def LemTokens(tokens):\n",
    "    return [lemmer.lemmatize(token) for token in tokens]\n",
    "remove_punc_dict = dict((ord(punct),None) for punct in string.punctuation)\n",
    "def LemNormalize(text):\n",
    "    return LemTokens(nltk.word_tokenize(text.lower().translate(remove_punc_dict)))"
   ]
  },
  {
   "cell_type": "markdown",
   "id": "d6814d9d",
   "metadata": {},
   "source": [
    "# Using Customized Greetings"
   ]
  },
  {
   "cell_type": "code",
   "execution_count": 23,
   "id": "d20f0e10",
   "metadata": {},
   "outputs": [
    {
     "data": {
      "text/plain": [
       "'How can I help you ?'"
      ]
     },
     "execution_count": 23,
     "metadata": {},
     "output_type": "execute_result"
    }
   ],
   "source": [
    "greet_inputs = ('hey','hello','hi','whassup','how are you?')\n",
    "greet_responses = ('hi','hello','Hey there !','How can I help you ?')\n",
    "def greet(sentence):\n",
    "    for word in sentence.split():\n",
    "        if word.lower() in greet_inputs:\n",
    "            return random.choice(greet_responses)\n",
    "greet('Hi')"
   ]
  },
  {
   "cell_type": "markdown",
   "id": "6e73ed5b",
   "metadata": {},
   "source": [
    "# Response Generation By Bot"
   ]
  },
  {
   "cell_type": "code",
   "execution_count": 24,
   "id": "6dc200e7",
   "metadata": {},
   "outputs": [],
   "source": [
    "def response(user_response, sent_tokens):\n",
    "    robo_response=''\n",
    "    sent_tokens.append(user_response)  # Add user response to corpus\n",
    "    TfidfVec = TfidfVectorizer(tokenizer=LemNormalize, stop_words='english')\n",
    "    tfidf = TfidfVec.fit_transform(sent_tokens)\n",
    "    vals = cosine_similarity(tfidf[-1], tfidf)\n",
    "    idx = vals.argsort()[0][-2]\n",
    "    flat = vals.flatten()\n",
    "    flat.sort()\n",
    "    req_tfidf = flat[-2]\n",
    "    if(req_tfidf==0):\n",
    "        robo_response=robo_response+\"I am sorry! I don't understand you\"\n",
    "        return robo_response\n",
    "    else:\n",
    "        robo_response = robo_response+sent_tokens[idx]\n",
    "        return robo_response"
   ]
  },
  {
   "cell_type": "markdown",
   "id": "0b7780ae",
   "metadata": {},
   "source": [
    "# Learning mechanism"
   ]
  },
  {
   "cell_type": "code",
   "execution_count": 25,
   "id": "69226334",
   "metadata": {},
   "outputs": [],
   "source": [
    "def learn_from_user_input(user_response, filename='Chatbot.txt'):\n",
    "    with open(filename, 'a', encoding='utf8') as fout:\n",
    "        fout.write('\\n' + user_response.lower())"
   ]
  },
  {
   "cell_type": "markdown",
   "id": "4f92f7da",
   "metadata": {},
   "source": [
    "# User Interaction"
   ]
  },
  {
   "cell_type": "code",
   "execution_count": 26,
   "id": "c3f21172",
   "metadata": {},
   "outputs": [
    {
     "name": "stdout",
     "output_type": "stream",
     "text": [
      "Hey! I am Learn Bot. Ask me a question or type bye for ending convo!!\n",
      "hey\n",
      "Learn Bot:  hi\n",
      "what is chatbot\n",
      "ROBO: design\n",
      "the chatbot design is the process that defines the interaction between the user and the chatbot.the chatbot designer will define the chatbot personality, the questions that will be asked to the users, and the overall interaction.it can be viewed as a subset of the conversational design.\n",
      "what is talkbot\n",
      "ROBO: a chatbot (also known as a talkbot, chatterbot, bot, im bot, interactive agent, or artificial conversational entity) is a computer program or an artificial intelligence which conducts a conversation via auditory or textual methods.\n",
      "are chatbot and talkbot same?\n",
      "ROBO: a chatbot (also known as a talkbot, chatterbot, bot, im bot, interactive agent, or artificial conversational entity) is a computer program or an artificial intelligence which conducts a conversation via auditory or textual methods.\n",
      "bye\n",
      "Learn Bot: Goodbye\n"
     ]
    }
   ],
   "source": [
    "flag = True\n",
    "print(\"Hey! I am Learn Bot. Ask me a question or type bye for ending convo!!\")\n",
    "while(flag==True):\n",
    "    user_response=input()\n",
    "    user_response=user_response.lower()\n",
    "    if(user_response!='bye'):\n",
    "        if (user_response =='thank you' or user_response=='thanks'):\n",
    "            flag=False\n",
    "            print(\"Learn Bot: You are Welcome ^_^\")\n",
    "        else:\n",
    "            if(greet(user_response) != None):\n",
    "                print('Learn Bot: ',greet(user_response))\n",
    "            else:\n",
    "                print(\"ROBO: \",end=\"\")\n",
    "                print(response(user_response, sent_tokens))\n",
    "                learn_from_user_input(user_response)  # Capture new response to learn\n",
    "                sent_tokens.remove(user_response)\n",
    "    else:\n",
    "        flag = False\n",
    "        print('Learn Bot: Goodbye')"
   ]
  },
  {
   "cell_type": "code",
   "execution_count": null,
   "id": "2a72e4b2",
   "metadata": {},
   "outputs": [],
   "source": []
  }
 ],
 "metadata": {
  "kernelspec": {
   "display_name": "Python 3 (ipykernel)",
   "language": "python",
   "name": "python3"
  },
  "language_info": {
   "codemirror_mode": {
    "name": "ipython",
    "version": 3
   },
   "file_extension": ".py",
   "mimetype": "text/x-python",
   "name": "python",
   "nbconvert_exporter": "python",
   "pygments_lexer": "ipython3",
   "version": "3.9.7"
  }
 },
 "nbformat": 4,
 "nbformat_minor": 5
}
